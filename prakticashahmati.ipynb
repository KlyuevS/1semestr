{
 "cells": [
  {
   "cell_type": "code",
   "execution_count": 1,
   "id": "111a40e7",
   "metadata": {},
   "outputs": [
    {
     "name": "stdout",
     "output_type": "stream",
     "text": [
      "Введите длину стороны матрицы3\n",
      "[1, 1, -1]\n",
      "[1, 1, -1]\n",
      "[-1, 1, -1]\n"
     ]
    }
   ],
   "source": [
    "import numpy as np\n",
    "import random\n",
    "import itertools\n",
    "import math\n",
    "import copy\n",
    "import matplotlib.pyplot as plt\n",
    "data = []\n",
    "T=0,1\n",
    "n = int(input(\"Введите длину стороны матрицы\"))\n",
    "chisla = [-1,1]\n",
    "\n",
    "for i in range(0, n):\n",
    "    data.append([])\n",
    "    for j in range(0, n):\n",
    "        data[i].append([])\n",
    "        data[i][j] = chisla[random.randint(0, 1)]\n",
    "\n",
    "\n",
    "for row in data:\n",
    "    print(row)"
   ]
  },
  {
   "cell_type": "code",
   "execution_count": 2,
   "id": "4c6611ee",
   "metadata": {},
   "outputs": [
    {
     "name": "stdout",
     "output_type": "stream",
     "text": [
      "[1, 1, 1]\n",
      "[1, 1, 1]\n",
      "[1, 1, 1]\n",
      "\n",
      "[-1, -1, -1]\n",
      "[-1, -1, -1]\n",
      "[-1, -1, -1]\n"
     ]
    }
   ],
   "source": [
    "def matrica(value, n):\n",
    "    data = []\n",
    "\n",
    "    for i in range(0, n):\n",
    "        data.append([])\n",
    "        for j in range(0, n):\n",
    "            data[i].append(value)\n",
    "    return data\n",
    "\n",
    "\n",
    "for row in matrica(1, n):\n",
    "    print(row)\n",
    "\n",
    "print()\n",
    "for row in matrica(-1, n):\n",
    "    print(row)\n",
    "\n",
    "higherf = np.array(matrica(1, n))\n",
    "smallerf = np.array(matrica(-1, n))\n"
   ]
  },
  {
   "cell_type": "code",
   "execution_count": null,
   "id": "6a2242c7",
   "metadata": {},
   "outputs": [],
   "source": []
  },
  {
   "cell_type": "code",
   "execution_count": 3,
   "id": "07962a6f",
   "metadata": {},
   "outputs": [
    {
     "data": {
      "text/plain": [
       "18"
      ]
     },
     "execution_count": 3,
     "metadata": {},
     "output_type": "execute_result"
    }
   ],
   "source": [
    "def summamatrici(data, summa, terms, n):\n",
    "    \n",
    "    for i in range(0,n):\n",
    "        for j in range(0,n):\n",
    "            if (0 < j) and (j < n-1) and ({(i,j), (i,j-1)} not in terms):\n",
    "                summa += data[i][j] * data[i][j-1]\n",
    "                terms.append({(i,j), (i,j-1)})\n",
    "            if (0 < j) and (j < n-1) and ({(i,j), (i,j+1)} not in terms):\n",
    "                summa += data[i][j] * data[i][j+1]\n",
    "                terms.append({(i,j), (i,j+1)})  \n",
    "            if (j == 0) and ({(i,j), (i,j+1)} not in terms):\n",
    "                summa += data[i][j] * data[i][j+1]\n",
    "                terms.append({(i,j), (i,j+1)})                           \n",
    "            if (j == 0) and ({(i,j), (i,n-1)} not in terms):\n",
    "                summa += data[i][j] * data[i][n-1]\n",
    "                terms.append({(i,j), (i,n-1)})               \n",
    "            if (j == n-1) and ({(i,j), (i,j-1)} not in terms):\n",
    "                summa += data[i][j] * data[i][j-1]\n",
    "                terms.append({(i,j), (i,j-1)})       \n",
    "            if (j == n-1) and ({(i,j), (i,0)} not in terms):\n",
    "                summa += data[i][j] * data[i][0]\n",
    "                terms.append({(i,j), (i,0)})        \n",
    "    return summa\n",
    "        \n",
    "e1 = np.array(data)\n",
    "e1=(summamatrici(smallerf, 0, [], n) + summamatrici(smallerf.T, 0, [], n))\n",
    "e1"
   ]
  },
  {
   "cell_type": "code",
   "execution_count": 4,
   "id": "ebbbf2a0",
   "metadata": {},
   "outputs": [],
   "source": [
    "P=random.random()\n",
    "deltae=0\n",
    "i=0\n",
    "W=0\n",
    "d=0\n"
   ]
  },
  {
   "cell_type": "code",
   "execution_count": 12,
   "id": "a86de65d",
   "metadata": {},
   "outputs": [
    {
     "data": {
      "text/plain": [
       "<matplotlib.image.AxesImage at 0x19e3d659fa0>"
      ]
     },
     "execution_count": 12,
     "metadata": {},
     "output_type": "execute_result"
    },
    {
     "data": {
      "image/png": "[encoded data removed]",
      "text/plain": [
       "<Figure size 432x288 with 1 Axes>"
      ]
     },
     "metadata": {
      "needs_background": "light"
     },
     "output_type": "display_data"
    }
   ],
   "source": [
    "for i in range(500):\n",
    "            \n",
    "            z=random.randint(1,n-1)\n",
    "            l=random.randint(1,n-1)\n",
    "            data[z][l]=-data[z][l]\n",
    "            e2=(summamatrici(smallerf, 0, [], n) + summamatrici(smallerf.T, 0, [], n))\n",
    "            deltae=e1-e2\n",
    "            if  deltae<=0:\n",
    "                data2=data.copy()\n",
    "                e2=e1\n",
    "                z=random.randint(1,n-1)\n",
    "                l=random.randint(1,n-1)\n",
    "                data2[z][l]=-data2[z][l]\n",
    "                e2=(summamatrici(smallerf, 0, [], n) + summamatrici(smallerf.T, 0, [], n))\n",
    "                deltae=e1-e2 #мб нужно поменять местами\n",
    "            else:\n",
    "                P=random.random()\n",
    "                W=math.exp((-deltae)/T)\n",
    "                if W<=P:\n",
    "                    data=data2.copy()\n",
    "                    e2=e1\n",
    "                    z=random.randint(1,n-1)\n",
    "                    l=random.randint(1,n-1)\n",
    "                    data[z][l]=-data[z][l]\n",
    "                    e2=(summamatrici(smallerf, 0, [], n) + summamatrici(smallerf.T, 0, [], n))\n",
    "                    deltae=e1-e2 #мб нужно поменять местами\n",
    "                else:\n",
    "                    data2=data.copy()\n",
    "                    e2=e1\n",
    "                    z=random.randint(1,n-1)\n",
    "                    l=random.randint(1,n-1)\n",
    "                    data2[z][l]=-data2[z][l]\n",
    "                    e2=(summamatrici(smallerf, 0, [], n) + summamatrici(smallerf.T, 0, [], n))\n",
    "                    deltae=e1-e2 #мб нужно поменять местами\n",
    "\n",
    "plt.imshow(data)\n",
    "    "
   ]
  },
  {
   "cell_type": "code",
   "execution_count": null,
   "id": "d3cfd167",
   "metadata": {},
   "outputs": [],
   "source": []
  },
  {
   "cell_type": "code",
   "execution_count": null,
   "id": "bf19f332",
   "metadata": {},
   "outputs": [],
   "source": []
  }
 ],
 "metadata": {
  "kernelspec": {
   "display_name": "Python 3",
   "language": "python",
   "name": "python3"
  },
  "language_info": {
   "codemirror_mode": {
    "name": "ipython",
    "version": 3
   },
   "file_extension": ".py",
   "mimetype": "text/x-python",
   "name": "python",
   "nbconvert_exporter": "python",
   "pygments_lexer": "ipython3",
   "version": "3.8.8"
  }
 },
 "nbformat": 4,
 "nbformat_minor": 5
}
