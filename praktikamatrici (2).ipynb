{
 "cells": [
  {
   "cell_type": "code",
   "execution_count": null,
   "id": "b070e4f0",
   "metadata": {},
   "outputs": [],
   "source": [
    "import numpy as np\n",
    "import random\n",
    "\n",
    "n = int(input(\"Введите длину стороны матрицы\"))\n",
    "\n",
    "data = []\n",
    "\n",
    "chisla = [-1,1]\n",
    "\n",
    "for i in range(0, n):\n",
    "    data.append([])\n",
    "    for j in range(0, n):\n",
    "        data[i].append([])\n",
    "        data[i][j] = chisla[random.randint(0, 1)]\n",
    "\n",
    "\n",
    "for row in data:\n",
    "    print(row)"
   ]
  },
  {
   "cell_type": "code",
   "execution_count": 2,
   "id": "e10b93be",
   "metadata": {},
   "outputs": [
    {
     "name": "stdout",
     "output_type": "stream",
     "text": [
      "[1, 1, 1, 1, 1, 1, 1, 1, 1, 1]\n",
      "[1, 1, 1, 1, 1, 1, 1, 1, 1, 1]\n",
      "[1, 1, 1, 1, 1, 1, 1, 1, 1, 1]\n",
      "[1, 1, 1, 1, 1, 1, 1, 1, 1, 1]\n",
      "[1, 1, 1, 1, 1, 1, 1, 1, 1, 1]\n",
      "[1, 1, 1, 1, 1, 1, 1, 1, 1, 1]\n",
      "[1, 1, 1, 1, 1, 1, 1, 1, 1, 1]\n",
      "[1, 1, 1, 1, 1, 1, 1, 1, 1, 1]\n",
      "[1, 1, 1, 1, 1, 1, 1, 1, 1, 1]\n",
      "[1, 1, 1, 1, 1, 1, 1, 1, 1, 1]\n",
      "\n",
      "[-1, -1, -1, -1, -1, -1, -1, -1, -1, -1]\n",
      "[-1, -1, -1, -1, -1, -1, -1, -1, -1, -1]\n",
      "[-1, -1, -1, -1, -1, -1, -1, -1, -1, -1]\n",
      "[-1, -1, -1, -1, -1, -1, -1, -1, -1, -1]\n",
      "[-1, -1, -1, -1, -1, -1, -1, -1, -1, -1]\n",
      "[-1, -1, -1, -1, -1, -1, -1, -1, -1, -1]\n",
      "[-1, -1, -1, -1, -1, -1, -1, -1, -1, -1]\n",
      "[-1, -1, -1, -1, -1, -1, -1, -1, -1, -1]\n",
      "[-1, -1, -1, -1, -1, -1, -1, -1, -1, -1]\n",
      "[-1, -1, -1, -1, -1, -1, -1, -1, -1, -1]\n"
     ]
    }
   ],
   "source": [
    "def matrica(value, n):\n",
    "    data = []\n",
    "\n",
    "    for i in range(0, n):\n",
    "        data.append([])\n",
    "        for j in range(0, n):\n",
    "            data[i].append(value)\n",
    "    return data\n",
    "\n",
    "\n",
    "for row in matrica(1, n):\n",
    "    print(row)\n",
    "\n",
    "print()\n",
    "for row in matrica(-1, n):\n",
    "    print(row)\n",
    "\n",
    "higherf = np.array(matrica(1, n))\n",
    "smallerf = np.array(matrica(-1, n))"
   ]
  },
  {
   "cell_type": "code",
   "execution_count": 3,
   "id": "ca7e0e35",
   "metadata": {},
   "outputs": [
    {
     "name": "stdout",
     "output_type": "stream",
     "text": [
      "20\n",
      "200\n",
      "200\n"
     ]
    }
   ],
   "source": [
    "def summamatrici(data, summa, terms, n):\n",
    "    \n",
    "    for i in range(0,n):\n",
    "        for j in range(0,n):\n",
    "            if (0 < j) and (j < n-1) and ({(i,j), (i,j-1)} not in terms):\n",
    "                summa += data[i][j] * data[i][j-1]\n",
    "                terms.append({(i,j), (i,j-1)})\n",
    "            if (0 < j) and (j < n-1) and ({(i,j), (i,j+1)} not in terms):\n",
    "                summa += data[i][j] * data[i][j+1]\n",
    "                terms.append({(i,j), (i,j+1)})  \n",
    "            if (j == 0) and ({(i,j), (i,j+1)} not in terms):\n",
    "                summa += data[i][j] * data[i][j+1]\n",
    "                terms.append({(i,j), (i,j+1)})                           \n",
    "            if (j == 0) and ({(i,j), (i,n-1)} not in terms):\n",
    "                summa += data[i][j] * data[i][n-1]\n",
    "                terms.append({(i,j), (i,n-1)})               \n",
    "            if (j == n-1) and ({(i,j), (i,j-1)} not in terms):\n",
    "                summa += data[i][j] * data[i][j-1]\n",
    "                terms.append({(i,j), (i,j-1)})       \n",
    "            if (j == n-1) and ({(i,j), (i,0)} not in terms):\n",
    "                summa += data[i][j] * data[i][0]\n",
    "                terms.append({(i,j), (i,0)})        \n",
    "    return summa\n",
    "        \n",
    "f = np.array(data)\n",
    "print(summamatrici(smallerf, 0, [], n) + summamatrici(smallerf.T, 0, [], n))\n"
   ]
  },
  {
   "cell_type": "code",
   "execution_count": null,
   "id": "dceed3bb",
   "metadata": {},
   "outputs": [],
   "source": []
  },
  {
   "cell_type": "code",
   "execution_count": null,
   "id": "ddd0c8ee",
   "metadata": {},
   "outputs": [],
   "source": []
  },
  {
   "cell_type": "code",
   "execution_count": null,
   "id": "5de70dc8",
   "metadata": {},
   "outputs": [],
   "source": []
  }
 ],
 "metadata": {
  "kernelspec": {
   "display_name": "Python 3",
   "language": "python",
   "name": "python3"
  },
  "language_info": {
   "codemirror_mode": {
    "name": "ipython",
    "version": 3
   },
   "file_extension": ".py",
   "mimetype": "text/x-python",
   "name": "python",
   "nbconvert_exporter": "python",
   "pygments_lexer": "ipython3",
   "version": "3.8.8"
  }
 },
 "nbformat": 4,
 "nbformat_minor": 5
}
